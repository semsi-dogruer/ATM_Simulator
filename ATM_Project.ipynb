{
 "cells": [
  {
   "cell_type": "code",
   "execution_count": 4,
   "metadata": {},
   "outputs": [
    {
     "name": "stdout",
     "output_type": "stream",
     "text": [
      "Welcome to our bank!\n",
      "Please enter your PIN code: 5555\n",
      "Please enter 1 for withdrawals, 2 for depositing, 3 for transfering and 4 for balance inquiry: 1\n",
      "Please proceed with your transaction.\n",
      "Please enter the amount you want to withdraw: 900\n",
      "Thank you for your transaction. Your remaining balance is 9100 dollars.\n",
      "Would you like to go back to the main menu? Press Y for yes or N for no: Y\n",
      "Please enter your PIN code: 5555\n",
      "Please enter 1 for withdrawals, 2 for depositing, 3 for transfering and 4 for balance inquiry: 2\n",
      "Please proceed to make your deposit. Your daily limit is 5000 dollars.\n",
      "Please enter the amount you want to deposit: 400\n",
      "Thank you for your deposit. Your remaining balance is 9500 dollars.Have a nice day!\n",
      "Would you like to go back to the main menu? Press Y for yes or N for no: Y\n",
      "Please enter your PIN code: 5555\n",
      "Please enter 1 for withdrawals, 2 for depositing, 3 for transfering and 4 for balance inquiry: 3\n",
      "Please enter the amount you want to transfer. Your daily limit is 7000 dollars.\n",
      "Please enter the amount you want to transfer: 300\n",
      "Thank you for your transfer. Your remaining balance is 9200 dollars. Have a nice day!\n",
      "The updated amount of the receiver's account is 800 dollars.\n",
      "Would you like to go back to the main menu? Press Y for yes or N for no: Y\n",
      "Please enter your PIN code: 5555\n",
      "Please enter 1 for withdrawals, 2 for depositing, 3 for transfering and 4 for balance inquiry: 4\n",
      "Your balance is 9200 dollars. Have a nice day!\n",
      "Would you like to go back to the main menu? Press Y for yes or N for no: N\n",
      "Thank you! Please visit us again!\n"
     ]
    }
   ],
   "source": [
    "\"\"\"In this project I created an ATM machine simulator.\"\"\"\n",
    "\n",
    "user_pin = 5555\n",
    "balance = 10000\n",
    "receiver_account = 500\n",
    "x = 'Y'\n",
    "\n",
    "print('Welcome to our bank!')\n",
    "\n",
    "while(x != 'N'):\n",
    "    pin = int(input('Please enter your PIN code: '))\n",
    "    if (pin == user_pin):\n",
    "        choice = int(input('Please enter 1 for withdrawals, 2 for depositing, 3 for transfering and 4 for balance inquiry: '))\n",
    "        if(choice == 1):\n",
    "            print('Please proceed with your transaction.')\n",
    "            withdrawal_amount = int(input('Please enter the amount you want to withdraw: '))\n",
    "            if(withdrawal_amount > balance):\n",
    "                print('You do not have sufficient funds in your account. Your maximum limit is %d dollars.' % (Balance))\n",
    "            elif(withdrawal_amount <= balance):\n",
    "                balance = balance - withdrawal_amount\n",
    "                print('Thank you for your transaction. Your remaining balance is',balance,'dollars.')\n",
    "        elif(choice == 2):\n",
    "            print('Please proceed to make your deposit. Your daily limit is 5000 dollars.')\n",
    "            deposit_amount = int(input('Please enter the amount you want to deposit: '))\n",
    "            if(deposit_amount <= 5000):\n",
    "                balance = balance + deposit_amount\n",
    "                print('Thank you for your deposit. Your remaining balance is',balance,'dollars.' 'Have a nice day!')\n",
    "            elif(deposit_amount > 5000):\n",
    "                print('Your daily limit is 5000 dollars. Please enter an amount equal to or less than 5000 dollars.')\n",
    "        elif(choice == 3):\n",
    "            print('Please enter the amount you want to transfer. Your daily limit is 7000 dollars.')\n",
    "            transfer_amount = int(input('Please enter the amount you want to transfer: '))\n",
    "            if(transfer_amount <= balance):\n",
    "                balance = balance - transfer_amount\n",
    "                receiver_account = receiver_account + transfer_amount\n",
    "                print('Thank you for your transfer. Your remaining balance is',balance,'dollars.','Have a nice day!')\n",
    "                print('''The updated amount of the receiver's account is''',receiver_account,'dollars.')\n",
    "            elif(transfer_amount > 7000):\n",
    "                print('You cannot exceed your daily limit of 7000 dollars. Please enter an amount accordingly.')\n",
    "        elif(choice == 4):\n",
    "            print('Your balance is', balance, 'dollars. Have a nice day!')\n",
    "        else:\n",
    "            print('You have to input one of the available options, which are 1, 2, 3, and 4: ')\n",
    "        x = input(\"Would you like to go back to the main menu? Press Y for yes or N for no: \")\n",
    "        while(x != 'Y' and x != 'N'):\n",
    "            print('Your input is incorrect. Please enter either Y or N.')\n",
    "            x = input('Press Y for yes or N for no: ')\n",
    "            \n",
    "            \n",
    "    else:\n",
    "        print('Your PIN is incorrect.')\n",
    "        x = input(\"Would you like to continue? Press Y or N: \")\n",
    "        while(x != 'Y' and x != 'N'):\n",
    "            print('Your input is incorrect. Please enter either Y or N.')\n",
    "            x = input('Press Y for yes or N for no: ')\n",
    "print('Thank you! Please visit us again!')"
   ]
  },
  {
   "cell_type": "code",
   "execution_count": null,
   "metadata": {},
   "outputs": [],
   "source": []
  }
 ],
 "metadata": {
  "kernelspec": {
   "display_name": "Python 3",
   "language": "python",
   "name": "python3"
  },
  "language_info": {
   "codemirror_mode": {
    "name": "ipython",
    "version": 3
   },
   "file_extension": ".py",
   "mimetype": "text/x-python",
   "name": "python",
   "nbconvert_exporter": "python",
   "pygments_lexer": "ipython3",
   "version": "3.8.3"
  }
 },
 "nbformat": 4,
 "nbformat_minor": 4
}
